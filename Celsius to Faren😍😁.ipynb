{
  "nbformat": 4,
  "nbformat_minor": 0,
  "metadata": {
    "colab": {
      "name": "Untitled3.ipynb",
      "provenance": [],
      "toc_visible": true,
      "authorship_tag": "ABX9TyOha4lrCnSGmepgG5hqZ/sT"
    },
    "kernelspec": {
      "name": "python3",
      "display_name": "Python 3"
    },
    "language_info": {
      "name": "python"
    }
  },
  "cells": [
    {
      "cell_type": "code",
      "execution_count": 3,
      "metadata": {
        "id": "aAqMFp47Gw1D"
      },
      "outputs": [],
      "source": [
        "import tensorflow as tf\n",
        "import logging\n",
        "logger = tf.get_logger()\n",
        "logger.setLevel(logging.ERROR)\n",
        "import numpy as np\n",
        "\n"
      ]
    },
    {
      "cell_type": "code",
      "source": [
        "c    = np.array([-40, -10,  0,  8, 15, 22,  38],  dtype=float)\n",
        "f = np.array([-40,  14, 32, 46, 59, 72, 100],  dtype=float)\n"
      ],
      "metadata": {
        "id": "Nx2e06RKHb4e"
      },
      "execution_count": 5,
      "outputs": []
    },
    {
      "cell_type": "code",
      "source": [
        "for j,k in enumerate(c):\n",
        "  \n",
        "  print(\"{} degrees Celsius = {} degrees Fahrenheit\".format(k, f[j]))"
      ],
      "metadata": {
        "colab": {
          "base_uri": "https://localhost:8080/"
        },
        "id": "XBR6qS3EHskP",
        "outputId": "ff79ff73-fc74-42dd-beaa-542b6aad6053"
      },
      "execution_count": 10,
      "outputs": [
        {
          "output_type": "stream",
          "name": "stdout",
          "text": [
            "-40.0 degrees Celsius = -40.0 degrees Fahrenheit\n",
            "-10.0 degrees Celsius = 14.0 degrees Fahrenheit\n",
            "0.0 degrees Celsius = 32.0 degrees Fahrenheit\n",
            "8.0 degrees Celsius = 46.0 degrees Fahrenheit\n",
            "15.0 degrees Celsius = 59.0 degrees Fahrenheit\n",
            "22.0 degrees Celsius = 72.0 degrees Fahrenheit\n",
            "38.0 degrees Celsius = 100.0 degrees Fahrenheit\n"
          ]
        }
      ]
    },
    {
      "cell_type": "code",
      "source": [
        "l_0 = tf.keras.layers.Dense(units = 1,input_shape = [1])"
      ],
      "metadata": {
        "id": "YY7OM3i6JG3a"
      },
      "execution_count": 11,
      "outputs": []
    },
    {
      "cell_type": "code",
      "source": [
        "model = tf.keras.Sequential(l_0)\n",
        "model.compile(loss =\"mean_squared_error\",optimizer=tf.keras.optimizers.Adam(0.1))"
      ],
      "metadata": {
        "id": "3UVhHplWKULK"
      },
      "execution_count": 13,
      "outputs": []
    },
    {
      "cell_type": "code",
      "source": [
        "history = model.fit(c, f, epochs=500, verbose=False)\n",
        "print(\"Finished training the model\")"
      ],
      "metadata": {
        "colab": {
          "base_uri": "https://localhost:8080/"
        },
        "id": "v6XYYjE3Krez",
        "outputId": "9080b5ef-5a36-4831-f08f-0ae55d8b90e5"
      },
      "execution_count": 14,
      "outputs": [
        {
          "output_type": "stream",
          "name": "stdout",
          "text": [
            "Finished training the model\n"
          ]
        }
      ]
    },
    {
      "cell_type": "code",
      "source": [
        "import matplotlib.pyplot as plt\n",
        "plt.xlabel(\"Epoch Number\")\n",
        "plt.ylabel(\"Loss Magnitude\")\n",
        "plt.plot(history.history[\"loss\"])"
      ],
      "metadata": {
        "colab": {
          "base_uri": "https://localhost:8080/",
          "height": 296
        },
        "id": "xdtXWHlkMUNt",
        "outputId": "b61ba001-24e8-44c3-c14d-72a6271d32d3"
      },
      "execution_count": 15,
      "outputs": [
        {
          "output_type": "execute_result",
          "data": {
            "text/plain": [
              "[<matplotlib.lines.Line2D at 0x7fe6219c8210>]"
            ]
          },
          "metadata": {},
          "execution_count": 15
        },
        {
          "output_type": "display_data",
          "data": {
            "text/plain": [
              "<Figure size 432x288 with 1 Axes>"
            ],
            "image/png": "[encoded data removed]"
          },
          "metadata": {
            "needs_background": "light"
          }
        }
      ]
    },
    {
      "cell_type": "code",
      "source": [
        "print(model.predict([100.0]))"
      ],
      "metadata": {
        "colab": {
          "base_uri": "https://localhost:8080/"
        },
        "id": "BlMrVzUzMlzK",
        "outputId": "c01e206d-64cf-401e-947b-a6d27b15f482"
      },
      "execution_count": 16,
      "outputs": [
        {
          "output_type": "stream",
          "name": "stdout",
          "text": [
            "[[211.3328]]\n"
          ]
        }
      ]
    },
    {
      "cell_type": "code",
      "source": [
        "print(\"These are the layer variables: {}\".format(l_0.get_weights()))"
      ],
      "metadata": {
        "colab": {
          "base_uri": "https://localhost:8080/"
        },
        "id": "g27UhtfLM5zm",
        "outputId": "e0f069e2-88d8-48da-f9ae-63487f2714e9"
      },
      "execution_count": 17,
      "outputs": [
        {
          "output_type": "stream",
          "name": "stdout",
          "text": [
            "These are the layer variables: [array([[1.821336]], dtype=float32), array([29.199188], dtype=float32)]\n"
          ]
        }
      ]
    },
    {
      "cell_type": "code",
      "source": [
        ""
      ],
      "metadata": {
        "id": "pO42lBwDNS2-"
      },
      "execution_count": null,
      "outputs": []
    },
    {
      "cell_type": "markdown",
      "source": [
        "Playing with more errors\n",
        "\n",
        "**bold text**"
      ],
      "metadata": {
        "id": "8WUSimVHNflh"
      }
    },
    {
      "cell_type": "code",
      "source": [
        ""
      ],
      "metadata": {
        "colab": {
          "base_uri": "https://localhost:8080/"
        },
        "id": "3kYoL9TPNkOR",
        "outputId": "bda3c589-e00c-460b-a597-050d00b6c80f"
      },
      "execution_count": 18,
      "outputs": [
        {
          "output_type": "stream",
          "name": "stdout",
          "text": [
            "Finished training the model\n",
            "[[211.74742]]\n",
            "Model predicts that 100 degrees Celsius is: [[211.74742]] degrees Fahrenheit\n",
            "These are the l0 variables: [array([[ 0.47830683,  0.65939945,  0.10659665, -0.34036803]],\n",
            "      dtype=float32), array([ 3.6481624,  3.69694  , -2.6824455,  1.0626949], dtype=float32)]\n",
            "These are the l1 variables: [array([[ 0.33511153, -0.67969453, -1.0282185 , -1.0463856 ],\n",
            "       [-0.22587876, -0.6520085 , -1.5193052 , -0.18672904],\n",
            "       [ 0.3624386 ,  1.4501001 ,  0.19911076,  0.6497114 ],\n",
            "       [-1.0361118 , -0.5452148 , -0.462383  , -0.52598083]],\n",
            "      dtype=float32), array([ 2.3888056, -3.763619 , -3.3800921, -2.0617511], dtype=float32)]\n",
            "These are the l2 variables: [array([[ 0.34161952],\n",
            "       [-1.0633804 ],\n",
            "       [-0.83177507],\n",
            "       [-0.3341265 ]], dtype=float32), array([3.337201], dtype=float32)]\n"
          ]
        }
      ]
    },
    {
      "cell_type": "code",
      "source": [
        ""
      ],
      "metadata": {
        "id": "Ko-71P0iNuAK"
      },
      "execution_count": null,
      "outputs": []
    }
  ]
}